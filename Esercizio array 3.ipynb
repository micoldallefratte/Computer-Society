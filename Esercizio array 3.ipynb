{
 "cells": [
  {
   "cell_type": "code",
   "execution_count": 1,
   "metadata": {},
   "outputs": [
    {
     "data": {
      "text/plain": [
       "array([[19,  2,  7],\n",
       "       [ 3, 16,  1],\n",
       "       [ 1, 19, 12]])"
      ]
     },
     "execution_count": 1,
     "metadata": {},
     "output_type": "execute_result"
    }
   ],
   "source": [
    "import numpy as np\n",
    "#Creare un array es3 di valori casuali interi (randint) di dimensione 3x3, con valore massimo (incluso) uguale a 20\n",
    "es3= np.random.randint(21, size=(3,3))\n",
    "es3"
   ]
  },
  {
   "cell_type": "code",
   "execution_count": 4,
   "metadata": {},
   "outputs": [
    {
     "data": {
      "text/plain": [
       "array([[19,  2,  7],\n",
       "       [ 3, 16,  1]])"
      ]
     },
     "execution_count": 4,
     "metadata": {},
     "output_type": "execute_result"
    }
   ],
   "source": [
    "#2. estrarre il subarray formato dalla seconda riga (es3-sub) come vista e visualizzarlo\n",
    "es3_sub= es3[:2,:]\n",
    "es3_sub"
   ]
  },
  {
   "cell_type": "code",
   "execution_count": 13,
   "metadata": {},
   "outputs": [
    {
     "name": "stdout",
     "output_type": "stream",
     "text": [
      "valori prima della moltiplicazione:\n",
      " [[19  2]\n",
      " [ 3 16]\n",
      " [ 1 19]]\n",
      "valori dopo la moltiplicazione:\n",
      " [[57  6]\n",
      " [ 9 48]\n",
      " [ 3 57]]\n"
     ]
    }
   ],
   "source": [
    "#3. moltiplicare per 3 tutti gli elementi della seconda colonna di es3\n",
    "print(\"valori prima della moltiplicazione:\\n\", es3[:,:2])\n",
    "print(\"valori dopo la moltiplicazione:\\n\", es3[:,:2]*3)"
   ]
  },
  {
   "cell_type": "code",
   "execution_count": 14,
   "metadata": {},
   "outputs": [
    {
     "data": {
      "text/plain": [
       "array([[19,  2,  7],\n",
       "       [ 3, 16,  1]])"
      ]
     },
     "execution_count": 14,
     "metadata": {},
     "output_type": "execute_result"
    }
   ],
   "source": [
    "#4. visualizzare es3-sub. È cambiato rispetto a prima?\n",
    "es3_sub"
   ]
  },
  {
   "cell_type": "code",
   "execution_count": 15,
   "metadata": {},
   "outputs": [
    {
     "data": {
      "text/plain": [
       "array([ 7,  1, 12])"
      ]
     },
     "execution_count": 15,
     "metadata": {},
     "output_type": "execute_result"
    }
   ],
   "source": [
    "#5. estrarre il subarray formato dalla terza colonna di es3 come copia (es3-sub-copy)\n",
    "es3_sub_copy= es3[:,2]\n",
    "es3_sub_copy"
   ]
  },
  {
   "cell_type": "code",
   "execution_count": 17,
   "metadata": {},
   "outputs": [
    {
     "name": "stdout",
     "output_type": "stream",
     "text": [
      "es3_sub_copy:\n",
      " [ 7  1 12] \n",
      "\n",
      "es3_sub_copy + 10:\n",
      " [17 11 22] \n",
      "\n"
     ]
    }
   ],
   "source": [
    "#6. sommare 10 a tutti gli elementi di es3-sub-copy e visualizzare\n",
    "print(\"es3_sub_copy:\\n\", es3_sub_copy, \"\\n\")\n",
    "print(\"es3_sub_copy + 10:\\n\", es3_sub_copy+10, \"\\n\")\n"
   ]
  },
  {
   "cell_type": "code",
   "execution_count": null,
   "metadata": {},
   "outputs": [],
   "source": []
  }
 ],
 "metadata": {
  "kernelspec": {
   "display_name": "Python 3",
   "language": "python",
   "name": "python3"
  },
  "language_info": {
   "codemirror_mode": {
    "name": "ipython",
    "version": 3
   },
   "file_extension": ".py",
   "mimetype": "text/x-python",
   "name": "python",
   "nbconvert_exporter": "python",
   "pygments_lexer": "ipython3",
   "version": "3.8.3"
  }
 },
 "nbformat": 4,
 "nbformat_minor": 4
}
