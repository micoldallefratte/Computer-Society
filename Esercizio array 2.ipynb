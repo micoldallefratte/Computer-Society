{
 "cells": [
  {
   "cell_type": "code",
   "execution_count": 2,
   "metadata": {},
   "outputs": [
    {
     "data": {
      "text/plain": [
       "array([[ 1,  0,  8,  3, 14,  7],\n",
       "       [ 3,  8,  0,  2, 13,  9],\n",
       "       [ 5, 12,  9, 15, 15, 12],\n",
       "       [ 5,  4, 10, 11, 13,  5]])"
      ]
     },
     "execution_count": 2,
     "metadata": {},
     "output_type": "execute_result"
    }
   ],
   "source": [
    "import numpy as np\n",
    "#Creare un array es2a di valori casuali interi (randint) di dimensione 4x6, con valore massimo (incluso) uguale a 15.\n",
    "es2a= np.random.randint(16, size=(4,6))\n",
    "es2a"
   ]
  },
  {
   "cell_type": "code",
   "execution_count": 3,
   "metadata": {},
   "outputs": [
    {
     "data": {
      "text/plain": [
       "array([[ 1,  0,  8],\n",
       "       [ 3,  8,  0],\n",
       "       [ 5, 12,  9]])"
      ]
     },
     "execution_count": 3,
     "metadata": {},
     "output_type": "execute_result"
    }
   ],
   "source": [
    "#1. prime tre righe, prime tre colonne\n",
    "es2a[:3,:3]"
   ]
  },
  {
   "cell_type": "code",
   "execution_count": 4,
   "metadata": {},
   "outputs": [
    {
     "data": {
      "text/plain": [
       "array([[ 2, 13,  9],\n",
       "       [15, 15, 12]])"
      ]
     },
     "execution_count": 4,
     "metadata": {},
     "output_type": "execute_result"
    }
   ],
   "source": [
    "#2. seconda e terza riga, quarta, quinta e sesta colonna\n",
    "es2a[1:3, 3:6]"
   ]
  },
  {
   "cell_type": "code",
   "execution_count": 5,
   "metadata": {},
   "outputs": [
    {
     "data": {
      "text/plain": [
       "array([[ 5, 12,  9, 15, 15, 12],\n",
       "       [ 5,  4, 10, 11, 13,  5]])"
      ]
     },
     "execution_count": 5,
     "metadata": {},
     "output_type": "execute_result"
    }
   ],
   "source": [
    "#3. elementi dopo il terzo elemento\n",
    "es2a[2:]"
   ]
  },
  {
   "cell_type": "code",
   "execution_count": 6,
   "metadata": {},
   "outputs": [
    {
     "name": "stdout",
     "output_type": "stream",
     "text": [
      "array non invertito:\n",
      " [[ 1  0  8  3 14  7]\n",
      " [ 3  8  0  2 13  9]\n",
      " [ 5 12  9 15 15 12]\n",
      " [ 5  4 10 11 13  5]] \n",
      "\n",
      "inverto righe:\n",
      " [[ 5  4 10 11 13  5]\n",
      " [ 5 12  9 15 15 12]\n",
      " [ 3  8  0  2 13  9]\n",
      " [ 1  0  8  3 14  7]] \n",
      "\n",
      "inverto colonne:\n",
      " [[ 7 14  3  8  0  1]\n",
      " [ 9 13  2  0  8  3]\n",
      " [12 15 15  9 12  5]\n",
      " [ 5 13 11 10  4  5]] \n",
      "\n"
     ]
    }
   ],
   "source": [
    "#4. invertire l’ordine delle sole righe; invertire l’ordine delle sole colonne\n",
    "print(\"array non invertito:\\n\", es2a, \"\\n\")\n",
    "print(\"inverto righe:\\n\", es2a[::-1,:], \"\\n\")\n",
    "print(\"inverto colonne:\\n\", es2a[:,::-1], \"\\n\")"
   ]
  },
  {
   "cell_type": "code",
   "execution_count": 7,
   "metadata": {},
   "outputs": [
    {
     "data": {
      "text/plain": [
       "array([[[26, 16],\n",
       "        [30,  4],\n",
       "        [20,  4],\n",
       "        [22, 19],\n",
       "        [21, 26]],\n",
       "\n",
       "       [[ 0, 23],\n",
       "        [11, 24],\n",
       "        [29,  9],\n",
       "        [13, 22],\n",
       "        [10,  5]],\n",
       "\n",
       "       [[ 2, 30],\n",
       "        [ 4, 10],\n",
       "        [ 4, 10],\n",
       "        [ 4, 16],\n",
       "        [16, 12]],\n",
       "\n",
       "       [[ 1, 13],\n",
       "        [23, 25],\n",
       "        [24, 24],\n",
       "        [14,  9],\n",
       "        [21,  5]],\n",
       "\n",
       "       [[ 7,  2],\n",
       "        [ 8, 23],\n",
       "        [ 1, 18],\n",
       "        [23, 19],\n",
       "        [29, 21]]])"
      ]
     },
     "execution_count": 7,
     "metadata": {},
     "output_type": "execute_result"
    }
   ],
   "source": [
    "#Creare un array es2b di valori casuali interi (randint) di dimensione 5x5x2, con valore massimo (incluso) uguale a 30.\n",
    "es2b= np.random.randint(31, size=(5,5,2))\n",
    "es2b"
   ]
  },
  {
   "cell_type": "code",
   "execution_count": 8,
   "metadata": {},
   "outputs": [
    {
     "data": {
      "text/plain": [
       "array([[[16],\n",
       "        [ 4]]])"
      ]
     },
     "execution_count": 8,
     "metadata": {},
     "output_type": "execute_result"
    }
   ],
   "source": [
    "#1. selezionare il primo subarray, da quello le prime 2 righe e le colonne dalla seconda alla quarta\n",
    "es2b[:1,:2,1:4]"
   ]
  },
  {
   "cell_type": "code",
   "execution_count": 9,
   "metadata": {},
   "outputs": [
    {
     "name": "stdout",
     "output_type": "stream",
     "text": [
      "array non invertito:\n",
      " [[[26 16]\n",
      "  [30  4]]\n",
      "\n",
      " [[ 0 23]\n",
      "  [11 24]]] \n",
      "\n",
      "inverto righe:\n",
      " [[[30  4]\n",
      "  [26 16]]\n",
      "\n",
      " [[11 24]\n",
      "  [ 0 23]]] \n",
      "\n",
      "inverto colonne:\n",
      " [[[16 26]\n",
      "  [ 4 30]]\n",
      "\n",
      " [[23  0]\n",
      "  [24 11]]] \n",
      "\n",
      "inverto righe e colonne:\n",
      " [[[ 4 30]\n",
      "  [16 26]]\n",
      "\n",
      " [[24 11]\n",
      "  [23  0]]] \n",
      "\n"
     ]
    }
   ],
   "source": [
    "#2. selezionare da entrambi i subarray le prime due righe e prime due colonne e invertire righe e colonne\n",
    "a= es2b[:2, :2,:2]\n",
    "print(\"array non invertito:\\n\", a, \"\\n\")\n",
    "print(\"inverto righe:\\n\", a[:,::-1,:], \"\\n\")\n",
    "print(\"inverto colonne:\\n\", a[:,:,::-1], \"\\n\")\n",
    "print(\"inverto righe e colonne:\\n\", a[:,::-1,::-1], \"\\n\")"
   ]
  },
  {
   "cell_type": "code",
   "execution_count": null,
   "metadata": {},
   "outputs": [],
   "source": []
  }
 ],
 "metadata": {
  "kernelspec": {
   "display_name": "Python 3",
   "language": "python",
   "name": "python3"
  },
  "language_info": {
   "codemirror_mode": {
    "name": "ipython",
    "version": 3
   },
   "file_extension": ".py",
   "mimetype": "text/x-python",
   "name": "python",
   "nbconvert_exporter": "python",
   "pygments_lexer": "ipython3",
   "version": "3.8.3"
  }
 },
 "nbformat": 4,
 "nbformat_minor": 4
}
