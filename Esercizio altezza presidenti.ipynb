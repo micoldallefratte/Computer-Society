{
 "cells": [
  {
   "cell_type": "code",
   "execution_count": 3,
   "metadata": {},
   "outputs": [
    {
     "name": "stdout",
     "output_type": "stream",
     "text": [
      "[189 170 189 163 183 171 185 168 173 183 173 173 175 178 183 193 178 173\n",
      " 174 183 183 168 170 178 182 180 183 178 182 188 175 179 183 193 182 183\n",
      " 177 185 188 188 182 185]\n"
     ]
    }
   ],
   "source": [
    "import numpy as np\n",
    "import pandas as pd\n",
    "data = pd.read_csv(r\"C:\\Users\\admin\\Desktop\\COMPUTER&SOCIETY\\president_heights.csv\")\n",
    "heights = np.array(data['height(cm)'])\n",
    "print(heights)"
   ]
  },
  {
   "cell_type": "code",
   "execution_count": 10,
   "metadata": {},
   "outputs": [
    {
     "name": "stdout",
     "output_type": "stream",
     "text": [
      "primi 10: \n",
      "    order                    name  height(cm)\n",
      "0      1       George Washington         189\n",
      "1      2              John Adams         170\n",
      "2      3        Thomas Jefferson         189\n",
      "3      4           James Madison         163\n",
      "4      5            James Monroe         183\n",
      "5      6       John Quincy Adams         171\n",
      "6      7          Andrew Jackson         185\n",
      "7      8        Martin Van Buren         168\n",
      "8      9  William Henry Harrison         173\n",
      "9     10              John Tyler         183 \n",
      "\n",
      "ultimi 10: \n",
      "     order               name  height(cm)\n",
      "32     35    John F. Kennedy         183\n",
      "33     36  Lyndon B. Johnson         193\n",
      "34     37      Richard Nixon         182\n",
      "35     38        Gerald Ford         183\n",
      "36     39       Jimmy Carter         177\n",
      "37     40      Ronald Reagan         185\n",
      "38     41  George H. W. Bush         188\n",
      "39     42       Bill Clinton         188\n",
      "40     43     George W. Bush         182\n",
      "41     44       Barack Obama         185 \n",
      "\n"
     ]
    }
   ],
   "source": [
    "#1. estrarre i primi 10 e gli ultimi 10 presidenti\n",
    "primi_10= data.iloc[0:10]\n",
    "print(\"primi 10: \\n\", primi_10, \"\\n\")\n",
    "ultimi_10= data.iloc[-10:]\n",
    "print(\"ultimi 10: \\n\", ultimi_10, \"\\n\")"
   ]
  },
  {
   "cell_type": "code",
   "execution_count": 25,
   "metadata": {},
   "outputs": [
    {
     "name": "stdout",
     "output_type": "stream",
     "text": [
      "presidenti con altezza tra 170 e 180cm: \n",
      "     order                    name  height(cm)\n",
      "1       2              John Adams         170\n",
      "5       6       John Quincy Adams         171\n",
      "8       9  William Henry Harrison         173\n",
      "10     11           James K. Polk         173\n",
      "11     12          Zachary Taylor         173\n",
      "12     13        Millard Fillmore         175\n",
      "13     14         Franklin Pierce         178\n",
      "16     17          Andrew Johnson         178\n",
      "17     18        Ulysses S. Grant         173\n",
      "18     19     Rutherford B. Hayes         174\n",
      "22     25        William McKinley         170\n",
      "23     26      Theodore Roosevelt         178\n",
      "25     28          Woodrow Wilson         180\n",
      "27     30         Calvin Coolidge         178\n",
      "30     33         Harry S. Truman         175\n",
      "31     34    Dwight D. Eisenhower         179\n",
      "36     39            Jimmy Carter         177 \n",
      "\n"
     ]
    }
   ],
   "source": [
    "#2. Estrarre i presidenti di altezza compresa tra 170 e 180 cm\n",
    "print(\"presidenti con altezza tra 170 e 180cm: \\n\", data.loc[(data['height(cm)']>=170) & (data['height(cm)']<=180)], \"\\n\" )"
   ]
  },
  {
   "cell_type": "code",
   "execution_count": 26,
   "metadata": {},
   "outputs": [
    {
     "name": "stdout",
     "output_type": "stream",
     "text": [
      "presidenti che si chiamano George e sono >185cm: \n",
      "     order               name  height(cm)\n",
      "0       1  George Washington         189\n",
      "38     41  George H. W. Bush         188 \n",
      "\n"
     ]
    }
   ],
   "source": [
    "#3. Estrarre i presidenti che si chiamano George e sono più alti di 185 cm.\n",
    "print(\"presidenti che si chiamano George e sono >185cm: \\n\", data.loc[(data['height(cm)']>=185) & (data['name'].str.contains('George'))], \"\\n\" )"
   ]
  },
  {
   "cell_type": "code",
   "execution_count": 31,
   "metadata": {},
   "outputs": [
    {
     "name": "stdout",
     "output_type": "stream",
     "text": [
      "presidenti che si chiamano George, John, Arthur oppure James : \n",
      "     order               name  height(cm)\n",
      "0       1  George Washington         189\n",
      "1       2         John Adams         170\n",
      "3       4      James Madison         163\n",
      "4       5       James Monroe         183\n",
      "5       6  John Quincy Adams         171\n",
      "9      10         John Tyler         183\n",
      "10     11      James K. Polk         173\n",
      "14     15     James Buchanan         183\n",
      "16     17     Andrew Johnson         178\n",
      "19     20  James A. Garfield         183\n",
      "20     21  Chester A. Arthur         183\n",
      "32     35    John F. Kennedy         183\n",
      "33     36  Lyndon B. Johnson         193\n",
      "38     41  George H. W. Bush         188\n",
      "40     43     George W. Bush         182 \n",
      "\n"
     ]
    }
   ],
   "source": [
    "#4. Estrarre i presidenti che si chiamano, come nome di battesimo, George, John, Arthur oppure James\n",
    "print(\"presidenti che si chiamano George, John, Arthur oppure James : \\n\", data.loc[(data['name'].str.contains('George'))|(data['name'].str.contains('John'))|(data['name'].str.contains('Arthur'))|(data['name'].str.contains('James')) & ~(data['name'].str.contains('Chester A. Arthur'))& ~(data['name'].str.contains('Johnson')) ], \"\\n\" )"
   ]
  },
  {
   "cell_type": "code",
   "execution_count": null,
   "metadata": {},
   "outputs": [],
   "source": []
  }
 ],
 "metadata": {
  "kernelspec": {
   "display_name": "Python 3",
   "language": "python",
   "name": "python3"
  },
  "language_info": {
   "codemirror_mode": {
    "name": "ipython",
    "version": 3
   },
   "file_extension": ".py",
   "mimetype": "text/x-python",
   "name": "python",
   "nbconvert_exporter": "python",
   "pygments_lexer": "ipython3",
   "version": "3.8.3"
  }
 },
 "nbformat": 4,
 "nbformat_minor": 4
}
