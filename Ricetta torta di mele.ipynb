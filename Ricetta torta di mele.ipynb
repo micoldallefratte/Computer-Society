{
 "cells": [
  {
   "cell_type": "markdown",
   "metadata": {},
   "source": [
    "# Torta di mele #\n"
   ]
  },
  {
   "cell_type": "markdown",
   "metadata": {},
   "source": [
    "### Ingredienti per 4 persone ###"
   ]
  },
  {
   "cell_type": "markdown",
   "metadata": {},
   "source": [
    "**Mele renette** 930 g\n",
    "\n",
    "**Zucchero** 200 g\n",
    "\n",
    "**Farina 00** 250 g\n",
    "\n",
    "**Burro** 100 g\n",
    "\n",
    "**Latte intero (a temperatura ambiente)** 150 g\n",
    "\n",
    "**Uova (a temperatura ambiente)** 2\n",
    "\n",
    "**Limoni** 1\n",
    "\n",
    "**Lievito in polvere per dolci** 16 g\n",
    "\n",
    "**Cannella in polvere** ½ cucchiaino\n",
    "\n",
    "**Sale fino** 1 pizzico"
   ]
  },
  {
   "cell_type": "code",
   "execution_count": 3,
   "metadata": {},
   "outputs": [
    {
     "data": {
      "text/plain": [
       "930.0"
      ]
     },
     "execution_count": 3,
     "metadata": {},
     "output_type": "execute_result"
    }
   ],
   "source": [
    "n_persone = 4\n",
    "dose_mele_a_persona = 232.5\n",
    "dose_mele = n_persone*dose_mele_a_persona\n",
    "dose_mele"
   ]
  },
  {
   "cell_type": "code",
   "execution_count": null,
   "metadata": {},
   "outputs": [],
   "source": []
  },
  {
   "cell_type": "code",
   "execution_count": null,
   "metadata": {},
   "outputs": [],
   "source": []
  }
 ],
 "metadata": {
  "kernelspec": {
   "display_name": "Python 3",
   "language": "python",
   "name": "python3"
  },
  "language_info": {
   "codemirror_mode": {
    "name": "ipython",
    "version": 3
   },
   "file_extension": ".py",
   "mimetype": "text/x-python",
   "name": "python",
   "nbconvert_exporter": "python",
   "pygments_lexer": "ipython3",
   "version": "3.8.3"
  }
 },
 "nbformat": 4,
 "nbformat_minor": 4
}
