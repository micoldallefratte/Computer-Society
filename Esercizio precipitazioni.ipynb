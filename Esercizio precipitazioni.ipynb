{
 "cells": [
  {
   "cell_type": "code",
   "execution_count": 2,
   "metadata": {},
   "outputs": [
    {
     "name": "stdout",
     "output_type": "stream",
     "text": [
      "       Tipo-Zone  Id Sensore          Data-Ora  Valore Cumulato\n",
      "0          Brera       19373  01/01/2018 00:00              0.2\n",
      "1         Juvara        5908  01/01/2018 00:00              0.0\n",
      "2       Lambrate        2006  01/01/2018 00:00              0.0\n",
      "3      Zavattari        9341  01/01/2018 00:00              0.4\n",
      "4      Rosellini       14121  01/01/2018 00:00              0.0\n",
      "...          ...         ...               ...              ...\n",
      "43680      Brera       19373  31/12/2018 00:00              0.0\n",
      "43681     Juvara        5908  31/12/2018 00:00              0.0\n",
      "43682   Lambrate        2006  31/12/2018 00:00              0.0\n",
      "43683  Zavattari        9341  31/12/2018 00:00              0.0\n",
      "43684  Rosellini       14121  31/12/2018 00:00              0.0\n",
      "\n",
      "[43685 rows x 4 columns]\n"
     ]
    }
   ],
   "source": [
    "import numpy as np\n",
    "import pandas as pd\n",
    "data= pd.read_csv(r\"C:\\Users\\admin\\Desktop\\COMPUTER&SOCIETY\\precipitazioni.csv\", sep=';')\n",
    "print(data)\n"
   ]
  },
  {
   "cell_type": "code",
   "execution_count": 3,
   "metadata": {},
   "outputs": [
    {
     "name": "stdout",
     "output_type": "stream",
     "text": [
      "            zone     id              data  valore\n",
      "0          Brera  19373  01/01/2018 00:00     0.2\n",
      "1         Juvara   5908  01/01/2018 00:00     0.0\n",
      "2       Lambrate   2006  01/01/2018 00:00     0.0\n",
      "3      Zavattari   9341  01/01/2018 00:00     0.4\n",
      "4      Rosellini  14121  01/01/2018 00:00     0.0\n",
      "...          ...    ...               ...     ...\n",
      "43680      Brera  19373  31/12/2018 00:00     0.0\n",
      "43681     Juvara   5908  31/12/2018 00:00     0.0\n",
      "43682   Lambrate   2006  31/12/2018 00:00     0.0\n",
      "43683  Zavattari   9341  31/12/2018 00:00     0.0\n",
      "43684  Rosellini  14121  31/12/2018 00:00     0.0\n",
      "\n",
      "[43685 rows x 4 columns]\n"
     ]
    }
   ],
   "source": [
    "#rinominare colonne\n",
    "data.rename(columns={\"Tipo-Zone\":\"zone\",\"Id Sensore\":\"id\",\"Data-Ora\":\"data\", \"Valore Cumulato\":\"valore\"}, inplace=True)\n",
    "print(data)"
   ]
  },
  {
   "cell_type": "code",
   "execution_count": 4,
   "metadata": {},
   "outputs": [
    {
     "name": "stdout",
     "output_type": "stream",
     "text": [
      "0         True\n",
      "1        False\n",
      "2        False\n",
      "3         True\n",
      "4        False\n",
      "         ...  \n",
      "43680    False\n",
      "43681    False\n",
      "43682    False\n",
      "43683    False\n",
      "43684    False\n",
      "Name: valore, Length: 43685, dtype: bool\n"
     ]
    }
   ],
   "source": [
    "#mask booleana\n",
    "import numpy as np\n",
    "import pandas as pd\n",
    "piovoso= (data.valore>0)\n",
    "print(piovoso)"
   ]
  },
  {
   "cell_type": "code",
   "execution_count": 5,
   "metadata": {},
   "outputs": [
    {
     "name": "stdout",
     "output_type": "stream",
     "text": [
      "Average precip on all days in 2018:    0.10222748155366658\n",
      "Median precip on all days in 2018:    nan\n",
      "Max precip on all days in 2018:    28.8\n",
      "Min precip on all days in 2018:    0.0\n"
     ]
    }
   ],
   "source": [
    "#statistiche su tutto il data\n",
    "print(\"Average precip on all days in 2018:   \",\n",
    "      np.mean(data.valore))\n",
    "print(\"Median precip on all days in 2018:   \",\n",
    "      np.median(data.valore))\n",
    "print(\"Max precip on all days in 2018:   \",\n",
    "      np.max(data.valore))\n",
    "print(\"Min precip on all days in 2018:   \",\n",
    "      np.min(data.valore))"
   ]
  },
  {
   "cell_type": "code",
   "execution_count": 7,
   "metadata": {},
   "outputs": [
    {
     "name": "stdout",
     "output_type": "stream",
     "text": [
      "Average precip on rainy days in 2018:    1.2523592950539857\n",
      "Median precip on rainy days in 2018:    0.6\n",
      "Max precip on rainy days in 2018:    28.8\n",
      "Min precip on rainy days in 2018:    0.2\n"
     ]
    }
   ],
   "source": [
    "#statistiche solo su giorni piovosi\n",
    "print(\"Average precip on rainy days in 2018:   \",\n",
    "      np.mean(data.valore[piovoso]))\n",
    "print(\"Median precip on rainy days in 2018:   \",\n",
    "      np.median(data.valore[piovoso]))\n",
    "print(\"Max precip on rainy days in 2018:   \",\n",
    "      np.max(data.valore[piovoso]))\n",
    "print(\"Min precip on rainy days in 2018:   \",\n",
    "      np.min(data.valore[piovoso]))"
   ]
  },
  {
   "cell_type": "code",
   "execution_count": 9,
   "metadata": {},
   "outputs": [
    {
     "data": {
      "text/plain": [
       "True"
      ]
     },
     "execution_count": 9,
     "metadata": {},
     "output_type": "execute_result"
    }
   ],
   "source": [
    "#guardo se ci sono valori na\n",
    "data.valore.isnull().values.any()"
   ]
  },
  {
   "cell_type": "code",
   "execution_count": 10,
   "metadata": {},
   "outputs": [
    {
     "name": "stdout",
     "output_type": "stream",
     "text": [
      "            zone    id              data  valore\n",
      "43     Zavattari  9341  01/01/2018 08:00     NaN\n",
      "153    Zavattari  9341  02/01/2018 06:00     NaN\n",
      "248    Zavattari  9341  03/01/2018 01:00     NaN\n",
      "368    Zavattari  9341  04/01/2018 01:00     NaN\n",
      "488    Zavattari  9341  05/01/2018 01:00     NaN\n",
      "...          ...   ...               ...     ...\n",
      "42966     Juvara  5908  25/12/2018 01:00     NaN\n",
      "42971     Juvara  5908  25/12/2018 02:00     NaN\n",
      "42976     Juvara  5908  25/12/2018 03:00     NaN\n",
      "42981     Juvara  5908  25/12/2018 04:00     NaN\n",
      "42986     Juvara  5908  25/12/2018 05:00     NaN\n",
      "\n",
      "[587 rows x 4 columns]\n"
     ]
    }
   ],
   "source": [
    "#Cerco tutte le righe del dataframe precip che contengono un nan\n",
    "#Domanda: dove dico che cerco rispetto alle righe e non alle colonne?\n",
    "df1 = data[data.isna().any(axis=1)]\n",
    "print (df1)"
   ]
  },
  {
   "cell_type": "code",
   "execution_count": 11,
   "metadata": {},
   "outputs": [
    {
     "data": {
      "text/plain": [
       "False"
      ]
     },
     "execution_count": 11,
     "metadata": {},
     "output_type": "execute_result"
    }
   ],
   "source": [
    "data.isna().all(axis=1)[43]"
   ]
  },
  {
   "cell_type": "code",
   "execution_count": 16,
   "metadata": {},
   "outputs": [
    {
     "name": "stdout",
     "output_type": "stream",
     "text": [
      "            zone     id              data  valore\n",
      "0          Brera  19373  01/01/2018 00:00     0.2\n",
      "1         Juvara   5908  01/01/2018 00:00     0.0\n",
      "2       Lambrate   2006  01/01/2018 00:00     0.0\n",
      "3      Zavattari   9341  01/01/2018 00:00     0.4\n",
      "4      Rosellini  14121  01/01/2018 00:00     0.0\n",
      "...          ...    ...               ...     ...\n",
      "43680      Brera  19373  31/12/2018 00:00     0.0\n",
      "43681     Juvara   5908  31/12/2018 00:00     0.0\n",
      "43682   Lambrate   2006  31/12/2018 00:00     0.0\n",
      "43683  Zavattari   9341  31/12/2018 00:00     0.0\n",
      "43684  Rosellini  14121  31/12/2018 00:00     0.0\n",
      "\n",
      "[43098 rows x 4 columns]\n"
     ]
    }
   ],
   "source": [
    "#Rimuovo da df1 le righe che hanno nan nella colonna valore. Quindi ora ho due dataframe:\n",
    "#data che contiene anche i nan\n",
    "#df1 che non contiene i nan\n",
    "df1 = data.dropna(subset=['valore'])\n",
    "print(df1)"
   ]
  },
  {
   "cell_type": "code",
   "execution_count": 17,
   "metadata": {},
   "outputs": [
    {
     "name": "stdout",
     "output_type": "stream",
     "text": [
      "Median precip on all days in 2018:    0.0\n"
     ]
    }
   ],
   "source": [
    "print(\"Median precip on all days in 2018:   \",\n",
    "      np.median(df1.valore))"
   ]
  },
  {
   "cell_type": "code",
   "execution_count": 21,
   "metadata": {},
   "outputs": [
    {
     "ename": "NameError",
     "evalue": "name 'valore' is not defined",
     "output_type": "error",
     "traceback": [
      "\u001b[1;31m---------------------------------------------------------------------------\u001b[0m",
      "\u001b[1;31mNameError\u001b[0m                                 Traceback (most recent call last)",
      "\u001b[1;32m<ipython-input-21-5d70c812b3f5>\u001b[0m in \u001b[0;36m<module>\u001b[1;34m\u001b[0m\n\u001b[0;32m      1\u001b[0m \u001b[1;31m#Ora voglio contare i valori.\u001b[0m\u001b[1;33m\u001b[0m\u001b[1;33m\u001b[0m\u001b[1;33m\u001b[0m\u001b[0m\n\u001b[0;32m      2\u001b[0m \u001b[1;31m#Uso groupby, specificando qual è la colonna i cui valori voglio vengano raggruppati.\u001b[0m\u001b[1;33m\u001b[0m\u001b[1;33m\u001b[0m\u001b[1;33m\u001b[0m\u001b[0m\n\u001b[1;32m----> 3\u001b[1;33m \u001b[0mdf1\u001b[0m\u001b[1;33m.\u001b[0m\u001b[0mgroupby\u001b[0m\u001b[1;33m(\u001b[0m\u001b[0mvalore\u001b[0m\u001b[1;33m)\u001b[0m\u001b[1;33m.\u001b[0m\u001b[0mcount\u001b[0m\u001b[1;33m(\u001b[0m\u001b[1;33m)\u001b[0m\u001b[1;33m\u001b[0m\u001b[1;33m\u001b[0m\u001b[0m\n\u001b[0m",
      "\u001b[1;31mNameError\u001b[0m: name 'valore' is not defined"
     ]
    }
   ],
   "source": [
    "#Ora voglio contare i valori. \n",
    "#Uso groupby, specificando qual è la colonna i cui valori voglio vengano raggruppati.\n",
    "df1.groupby(valore).count()\n"
   ]
  },
  {
   "cell_type": "code",
   "execution_count": 22,
   "metadata": {},
   "outputs": [
    {
     "ename": "NameError",
     "evalue": "name 'valori' is not defined",
     "output_type": "error",
     "traceback": [
      "\u001b[1;31m---------------------------------------------------------------------------\u001b[0m",
      "\u001b[1;31mNameError\u001b[0m                                 Traceback (most recent call last)",
      "\u001b[1;32m<ipython-input-22-ee4b7e5514f4>\u001b[0m in \u001b[0;36m<module>\u001b[1;34m\u001b[0m\n\u001b[1;32m----> 1\u001b[1;33m \u001b[0mdata\u001b[0m\u001b[1;33m.\u001b[0m\u001b[0mgroupby\u001b[0m\u001b[1;33m(\u001b[0m\u001b[0mvalori\u001b[0m\u001b[1;33m)\u001b[0m\u001b[1;33m.\u001b[0m\u001b[0mcount\u001b[0m\u001b[1;33m(\u001b[0m\u001b[1;33m)\u001b[0m\u001b[1;33m\u001b[0m\u001b[1;33m\u001b[0m\u001b[0m\n\u001b[0m",
      "\u001b[1;31mNameError\u001b[0m: name 'valori' is not defined"
     ]
    }
   ],
   "source": [
    "data.groupby(valori).count()"
   ]
  },
  {
   "cell_type": "code",
   "execution_count": 23,
   "metadata": {},
   "outputs": [
    {
     "data": {
      "text/plain": [
       "587"
      ]
     },
     "execution_count": 23,
     "metadata": {},
     "output_type": "execute_result"
    }
   ],
   "source": [
    "data.valore.isnull().sum()"
   ]
  },
  {
   "cell_type": "code",
   "execution_count": null,
   "metadata": {},
   "outputs": [],
   "source": []
  }
 ],
 "metadata": {
  "kernelspec": {
   "display_name": "Python 3",
   "language": "python",
   "name": "python3"
  },
  "language_info": {
   "codemirror_mode": {
    "name": "ipython",
    "version": 3
   },
   "file_extension": ".py",
   "mimetype": "text/x-python",
   "name": "python",
   "nbconvert_exporter": "python",
   "pygments_lexer": "ipython3",
   "version": "3.8.3"
  }
 },
 "nbformat": 4,
 "nbformat_minor": 4
}
